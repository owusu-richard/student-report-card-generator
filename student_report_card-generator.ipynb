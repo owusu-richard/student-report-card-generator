{
 "cells": [
  {
   "cell_type": "markdown",
   "id": "f5cc447e-7975-4223-85f6-82b89fb76b69",
   "metadata": {},
   "source": [
    "# 🎓 Student Report Card Generator\n",
    "A Python project that simulates a real-life **Student Report card Generator.** \n",
    "This system allows users (teachers) to enter students' names, subjects, and scores, then calculate averages, assign grades, and generate a report for each student, using Input collection, loops, conditionals, dictionaries, Lists, functions, and file handling(to save reports).\n",
    "\n",
    "---\n",
    "\n",
    "## Step 1: Define the Grade System\n"
   ]
  },
  {
   "cell_type": "markdown",
   "id": "a34932d0-a555-478c-b90e-9bbc993cefe8",
   "metadata": {},
   "source": [
    "### 📌 Define Grade System Function\n",
    "This function converts an average score into a letter grade from A to F based on standard academic grading.\n",
    "\n",
    "#### Grade Scale\n",
    "- A: 90–100\n",
    "- B: 80–89\n",
    "- C: 70–79\n",
    "- D: 60–69\n",
    "- F: <60\n",
    "\n"
   ]
  },
  {
   "cell_type": "code",
   "execution_count": 1,
   "id": "49f8f3f5-b0a2-4877-aa86-94e7b4f35943",
   "metadata": {},
   "outputs": [],
   "source": [
    "def get_grade(score):\n",
    "    \"\"\"\n",
    "    Returns a letter grade based on a numerical score.\n",
    "    \"\"\"\n",
    "    if score >= 90:\n",
    "        return \"A\"\n",
    "    elif score >= 80:\n",
    "        return \"B\"\n",
    "    elif score >= 70:\n",
    "        return \"C\"\n",
    "    elif score >= 60:\n",
    "        return \"D\"\n",
    "    else:\n",
    "        return \"F\"\n"
   ]
  },
  {
   "cell_type": "markdown",
   "id": "8c77d295-fe58-4dca-9f4a-4ecafc9832bc",
   "metadata": {},
   "source": [
    "## 📝 Step 2: Collect Student Data\n",
    "This function collects names, subjects, and scores for each student. It stores the data in a dictionary and returns it for further processing.\n"
   ]
  },
  {
   "cell_type": "code",
   "execution_count": 2,
   "id": "7bb18639-f752-4b90-a7ff-ce28588dc712",
   "metadata": {},
   "outputs": [],
   "source": [
    "def enter_student_data():\n",
    "    \"\"\"\n",
    "    Collects subject names and each student's score.\n",
    "    Returns a dictionary of students and their scores, and a list of subjects.\n",
    "    \"\"\"\n",
    "    students = {}\n",
    "    subjects = []\n",
    "\n",
    "    # Get the number of subjects to be entered\n",
    "    num_subjects = int(input(\"Enter the number of subjects: \"))\n",
    "\n",
    "     # Collect subject names\n",
    "    for i in range(num_subjects):\n",
    "        subject = input(f\"Enter name of subject {i + 1}: \").title()\n",
    "        subjects.append(subject)\n",
    "    # Collect the number of students\n",
    "    num_students = int(input(\"Enter the number of students: \"))\n",
    "\n",
    "    # Collect each student's scores\n",
    "    for _ in range(num_students):\n",
    "        name = input(\"\\nEnter student name: \")\n",
    "        scores = {}\n",
    "        \n",
    "        for subject in subjects:\n",
    "            score = float(input(f\"Enter {name}'s score in {subject}: \"))\n",
    "            scores[subject] = score\n",
    "\n",
    "        students[name] = scores\n",
    "\n",
    "    return students, subjects\n"
   ]
  },
  {
   "cell_type": "markdown",
   "id": "4b4d7abf-52b3-4ac6-a0d1-90ff36c38f6f",
   "metadata": {},
   "source": [
    "## 📊 Step 3: Generate and Save Individual Reports\n",
    "This function creates and saves individual student report files."
   ]
  },
  {
   "cell_type": "code",
   "execution_count": 6,
   "id": "6d52b73e-b8b5-4a39-a2ab-59dedc95f30a",
   "metadata": {},
   "outputs": [],
   "source": [
    "def generate_and_save_reports(students):\n",
    "    \"\"\"\n",
    "    Generates and saves a text file for each student's report.\n",
    "    Returns the top-performing student and their average score.\n",
    "    \"\"\"\n",
    "    top_student = \"\"\n",
    "    top_average = 0\n",
    "\n",
    "    for name, subjects in students.items():\n",
    "        total = sum(subjects.values())\n",
    "        average = total / len(subjects)\n",
    "        grade = get_grade(average)\n",
    "        status = \"Pass\" if average >= 50 else \"Fail\"\n",
    "        \n",
    "        # Update top student info\n",
    "        if average > top_average:\n",
    "            top_average = average\n",
    "            top_student = name\n",
    "\n",
    "        # Save to individual file\n",
    "        with open(f\"{name}_report.txt\", \"w\", encoding=\"utf-8\") as file:\n",
    "            file.write(f\" 📄 Report for {name}\\n\")\n",
    "            for subject, score in subjects.items():\n",
    "                file.write(f\"{subject}: {score}\\n\")\n",
    "            file.write(f\"Average: {average:.2f}\\n\")\n",
    "            file.write(f\"Grade: {grade}\\n\")\n",
    "            file.write(f\"Status: {status}\\n\")\n",
    "    print(\"✅ All individual reports saved successfully.\")\n",
    "    return top_student, top_average\n"
   ]
  },
  {
   "cell_type": "markdown",
   "id": "9dc9e10c-36f0-487a-8035-ea1e03621d93",
   "metadata": {},
   "source": [
    "## 🏆 Step 4: Save Class Summary\n",
    "This function saves the overall class performance"
   ]
  },
  {
   "cell_type": "code",
   "execution_count": 7,
   "id": "18051912-696a-40e1-b7cf-90c9bb9a75bb",
   "metadata": {},
   "outputs": [],
   "source": [
    "def save_class_summary(students, top_student, top_average):\n",
    "    \"\"\"\n",
    "    Saves a summary file for the entire class, including the top performer.\n",
    "    \"\"\"\n",
    "    with open(\"class_summary.txt\", \"w\", encoding=\"utf-8\") as file:\n",
    "        for name, subjects in students.items():\n",
    "            total = sum(subjects.values())\n",
    "            average = total / len(subjects)\n",
    "            grade = get_grade(average)\n",
    "            status = \"Pass\" if average >= 50 else \"Fail\"\n",
    "\n",
    "            file.write(f\" 📄 Report for {name}\\n\")\n",
    "            for subject, score in subjects.items():\n",
    "                file.write(f\"{subject}: {score}\\n\")\n",
    "            file.write(f\"Average: {average:.2f}, Grade: {grade}, Status: {status}\\n\\n\")\n",
    "\n",
    "        file.write(f\"🏅 Top Performer: {top_student} with an average of {top_average:.2f}\\n\")\n",
    "\n",
    "    print(\"✅ Class summary saved to class_summary.txt.\")\n"
   ]
  },
  {
   "cell_type": "markdown",
   "id": "caed1eb3-b763-4559-9967-113ee787091d",
   "metadata": {},
   "source": [
    "## 🚀 Step 5: Main Program\n",
    "This is the main function to run the report card generator"
   ]
  },
  {
   "cell_type": "code",
   "execution_count": null,
   "id": "141d453f-84a7-483b-ba0a-c07cc3e12002",
   "metadata": {},
   "outputs": [],
   "source": [
    "def main():\n",
    "    print(\"🎓Student Report Card Generator\")\n",
    "    students, _ = enter_student_data()\n",
    "    top_student, top_average = generate_and_save_reports(students)\n",
    "    save_class_summary(students, top_student, top_average)\n",
    "\n",
    "# Run the program\n",
    "main()\n"
   ]
  },
  {
   "cell_type": "markdown",
   "id": "b856b79b-cc41-4d27-9a53-fe353b299f44",
   "metadata": {},
   "source": [
    "## ✅ Project Summary\n",
    "\n",
    "This notebook successfully simulates a real-world student report card system using:\n",
    "\n",
    "- Input collection via `input()`\n",
    "- Data structures like **dictionaries** and **lists**\n",
    "- Logic with **loops** and **conditionals**\n",
    "- Modular programming with **functions**\n",
    "- **File handling** for generating individual and summary report files\n",
    "\n",
    "### 📁 Output Files\n",
    "- `studentname_report.txt`: Detailed report per student\n",
    "- `class_summary.txt`: Summary of all students and top performer\n",
    "\n",
    "This notebook serves as a complete beginner-friendly project and reference for real-life Python applications.\n"
   ]
  }
 ],
 "metadata": {
  "kernelspec": {
   "display_name": "Python 3 (ipykernel)",
   "language": "python",
   "name": "python3"
  },
  "language_info": {
   "codemirror_mode": {
    "name": "ipython",
    "version": 3
   },
   "file_extension": ".py",
   "mimetype": "text/x-python",
   "name": "python",
   "nbconvert_exporter": "python",
   "pygments_lexer": "ipython3",
   "version": "3.13.3"
  }
 },
 "nbformat": 4,
 "nbformat_minor": 5
}
